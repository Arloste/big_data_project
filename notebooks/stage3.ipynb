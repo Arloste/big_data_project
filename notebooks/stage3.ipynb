{
 "cells": [
  {
   "cell_type": "markdown",
   "id": "88f404a3-0d31-42d6-9ea2-e668c29c3489",
   "metadata": {
    "tags": []
   },
   "source": [
    "# Initializing spark connection"
   ]
  },
  {
   "cell_type": "code",
   "execution_count": 2,
   "id": "d39699b9-2ac7-414e-893f-944a6b140d2f",
   "metadata": {},
   "outputs": [],
   "source": [
    "from pyspark.sql import SparkSession\n",
    "\n",
    "team = \"team30\"\n",
    "warehouse = \"project/hive/warehouse\"\n",
    "\n",
    "spark = SparkSession.builder\\\n",
    "        .appName(\"{} - spark ML\".format(team))\\\n",
    "        .master(\"yarn\")\\\n",
    "        .config(\"hive.metastore.uris\", \"thrift://hadoop-02.uni.innopolis.ru:9883\")\\\n",
    "        .config(\"spark.sql.warehouse.dir\", warehouse)\\\n",
    "        .config(\"spark.sql.avro.compression.codec\", \"snappy\")\\\n",
    "        .enableHiveSupport()\\\n",
    "        .getOrCreate()"
   ]
  },
  {
   "cell_type": "code",
   "execution_count": 31,
   "id": "d0d7fc4d-4325-4bc2-8d3a-2215fe4034fd",
   "metadata": {},
   "outputs": [
    {
     "name": "stdout",
     "output_type": "stream",
     "text": [
      "root\n",
      " |-- vendorid: integer (nullable = true)\n",
      " |-- pickup_time: timestamp (nullable = true)\n",
      " |-- dropoff_time: timestamp (nullable = true)\n",
      " |-- passenger_count: integer (nullable = true)\n",
      " |-- trip_distance: double (nullable = true)\n",
      " |-- pickup_longitude: double (nullable = true)\n",
      " |-- pickup_latitude: double (nullable = true)\n",
      " |-- ratecodeid: integer (nullable = true)\n",
      " |-- store_and_fwd_flag: string (nullable = true)\n",
      " |-- dropoff_longitude: double (nullable = true)\n",
      " |-- dropoff_latitude: double (nullable = true)\n",
      " |-- fare_amount: double (nullable = true)\n",
      " |-- extra: double (nullable = true)\n",
      " |-- mta_tax: double (nullable = true)\n",
      " |-- improvement_surcharge: double (nullable = true)\n",
      " |-- tip_amount: double (nullable = true)\n",
      " |-- tolls_amount: double (nullable = true)\n",
      " |-- total_amount: double (nullable = true)\n",
      " |-- payment_type: short (nullable = true)\n",
      "\n"
     ]
    }
   ],
   "source": [
    "rides = spark.read.format(\"avro\").table(\"team30_projectdb.rides_part_buck\")\n",
    "rides.printSchema()"
   ]
  },
  {
   "cell_type": "code",
   "execution_count": 32,
   "id": "36111b2c-c70d-4cba-8bd2-806b9664dcb6",
   "metadata": {},
   "outputs": [],
   "source": [
    "rides = rides.limit(10000)"
   ]
  },
  {
   "cell_type": "code",
   "execution_count": 33,
   "id": "d6e89b2f-e6f2-423e-a47b-7a81d5cddb41",
   "metadata": {},
   "outputs": [
    {
     "name": "stdout",
     "output_type": "stream",
     "text": [
      "+--------+-------------------+-------------------+---------------+-------------+----------------+---------------+----------+------------------+-----------------+----------------+-----------+-----+-------+---------------------+----------+------------+------------+------------+\n",
      "|vendorid|        pickup_time|       dropoff_time|passenger_count|trip_distance|pickup_longitude|pickup_latitude|ratecodeid|store_and_fwd_flag|dropoff_longitude|dropoff_latitude|fare_amount|extra|mta_tax|improvement_surcharge|tip_amount|tolls_amount|total_amount|payment_type|\n",
      "+--------+-------------------+-------------------+---------------+-------------+----------------+---------------+----------+------------------+-----------------+----------------+-----------+-----+-------+---------------------+----------+------------+------------+------------+\n",
      "|       1|2015-01-02 08:23:27|2015-01-02 08:47:40|              1|         11.9|          -73.78|          40.64|         1|                 N|           -73.81|           40.59|       34.0|  0.0|    0.5|                  0.0|       2.0|         0.0|        36.8|           4|\n",
      "|       1|2015-01-13 20:46:50|2015-01-13 21:15:46|              1|         13.1|          -73.97|          40.74|         1|                 N|           -73.96|           40.61|       39.0|  0.0|    0.5|                  0.0|       0.5|         0.3|        40.3|           4|\n",
      "|       1|2015-01-29 15:04:36|2015-01-29 15:30:17|              1|          8.4|          -73.97|          40.79|         1|                 N|           -73.91|           40.89|       26.5|  1.0|    0.5|                  0.0|      2.44|         0.3|       30.74|           4|\n",
      "|       1|2015-01-12 18:58:37|2015-01-12 19:19:26|              1|         11.4|          -73.98|          40.75|         1|                 N|           -73.79|           40.73|       32.0|  0.5|    0.5|                  0.0|     12.83|         0.3|       46.13|           4|\n",
      "|       1|2015-01-29 13:23:29|2015-01-29 13:30:07|              1|          2.2|          -74.04|          40.73|         5|                 N|           -74.01|           40.72|        0.0|  0.0|    0.0|                  0.0|     23.53|         0.3|       23.83|           4|\n",
      "|       1|2015-01-30 20:13:44|2015-01-30 20:39:24|              1|          3.2|          -73.99|          40.76|         1|                 Y|           -73.98|           40.72|        2.5|  0.5|    0.5|                  0.0|       0.5|         0.3|         4.3|           4|\n",
      "|       1|2015-01-26 11:01:38|2015-01-26 11:16:45|              1|          7.2|          -73.97|          40.79|         1|                 N|           -73.92|           40.88|       21.5|  0.0|    0.5|                  0.0|      2.44|         0.3|       24.74|           4|\n",
      "|       1|2015-01-17 04:57:51|2015-01-17 05:19:23|              1|         12.9|          -73.98|          40.74|         1|                 N|           -73.86|           40.77|       35.5|  0.0|    0.5|                  0.0|      5.39|         0.3|       41.69|           4|\n",
      "|       1|2015-01-24 16:59:05|2015-01-24 17:34:56|              2|         18.6|          -74.01|           40.7|         1|                 N|           -73.91|           40.91|       52.0|  0.5|    0.5|                  0.0|      2.44|         0.3|       55.74|           4|\n",
      "|       1|2015-01-22 21:02:42|2015-01-22 21:26:47|              1|         11.4|          -73.93|          40.73|         1|                 N|           -73.95|           40.73|       31.5|  0.5|    0.5|                  0.0|       2.0|         0.3|        34.8|           4|\n",
      "|       1|2015-01-29 15:17:32|2015-01-29 15:53:31|              1|          3.0|          -73.96|          40.77|         1|                 N|            -74.0|           40.76|       19.5|  1.0|    0.5|                  0.0|     31.16|         0.3|       52.46|           4|\n",
      "|       1|2015-01-10 00:10:57|2015-01-10 00:22:15|              1|          5.6|          -73.94|          40.84|         1|                 N|           -73.91|           40.91|       17.5|  0.5|    0.5|                  0.0|      2.44|         0.3|       21.24|           4|\n",
      "|       1|2015-01-15 11:21:26|2015-01-15 12:21:40|              1|         15.9|          -73.97|          40.77|         1|                 N|           -74.06|           40.75|       45.0|  0.0|    0.0|                  0.0|      11.5|         0.3|        56.8|           4|\n",
      "|       1|2015-01-01 08:05:00|2015-01-01 08:06:43|              1|          0.0|          -74.04|          40.74|         5|                 N|           -74.04|           40.74|       0.01|  0.0|    0.0|                  0.0|     15.08|         0.0|       15.39|           4|\n",
      "|       1|2015-01-01 03:54:27|2015-01-01 04:06:27|              2|          4.7|          -74.01|          40.74|         5|                 N|           -74.03|           40.77|       68.0|  0.0|    0.0|                  0.0|     11.75|         0.0|       80.05|           4|\n",
      "|       1|2015-01-15 14:57:11|2015-01-15 15:00:32|              1|          0.5|          -73.92|          40.74|         5|                 N|           -73.93|           40.73|       0.01|  0.0|    0.0|                  0.0|     11.75|         0.3|       12.06|           4|\n",
      "|       1|2015-01-30 11:23:00|2015-01-30 12:31:43|              1|         21.0|          -73.98|          40.78|         2|                 N|           -73.78|           40.65|       52.0|  0.0|    0.5|                  0.0|       5.4|         0.3|        58.2|           4|\n",
      "|       1|2015-01-25 09:39:34|2015-01-25 10:05:48|              2|          5.9|          -73.98|          40.76|         1|                 N|           -74.03|           40.74|       21.5|  0.0|    0.5|                  0.0|     11.75|         0.3|       34.05|           4|\n",
      "|       1|2015-01-15 15:54:13|2015-01-15 15:54:57|              1|          0.0|          -74.04|          40.73|         5|                 Y|           -74.04|           40.73|       0.01|  0.0|    0.0|                  0.0|     11.75|         0.3|       12.06|           4|\n",
      "|       1|2015-01-06 22:08:30|2015-01-06 22:13:26|              2|          0.9|          -73.98|          40.74|         1|                 N|           -73.97|           40.76|        6.0|  0.5|    0.5|                  0.0|       9.0|         0.3|        16.3|           4|\n",
      "+--------+-------------------+-------------------+---------------+-------------+----------------+---------------+----------+------------------+-----------------+----------------+-----------+-----+-------+---------------------+----------+------------+------------+------------+\n",
      "only showing top 20 rows\n",
      "\n",
      "10000\n"
     ]
    }
   ],
   "source": [
    "rides.show()\n",
    "print(rides.count())"
   ]
  },
  {
   "cell_type": "markdown",
   "id": "41cdfc5a-1cc9-4929-82eb-13fc3652592b",
   "metadata": {
    "tags": []
   },
   "source": [
    "# Preprocessing"
   ]
  },
  {
   "cell_type": "code",
   "execution_count": 34,
   "id": "6142e352-9a92-457e-aa94-a4cc071f3b02",
   "metadata": {},
   "outputs": [],
   "source": [
    "from pyspark.ml import Pipeline\n",
    "from pyspark.ml.feature import StringIndexer, OneHotEncoder, VectorAssembler, Word2Vec, Tokenizer, RegexTokenizer\n",
    "from pyspark.sql.functions import col\n",
    "from pyspark.ml.feature import VectorIndexer\n",
    "import os\n",
    "from pyspark import keyword_only\n",
    "from pyspark.ml import Transformer\n",
    "from pyspark.ml.param.shared import HasInputCol, HasOutputCol, Param, Params, TypeConverters\n",
    "from pyspark.ml.util import DefaultParamsReadable, DefaultParamsWritable\n",
    "from pyspark.sql import DataFrame\n",
    "from pyspark.sql.types import StringType\n",
    "import pyspark.sql.functions as F\n",
    "import math\n",
    "\n",
    "def run(command):\n",
    "    return os.popen(command).read()"
   ]
  },
  {
   "cell_type": "code",
   "execution_count": 35,
   "id": "c046d5bc-385f-47fb-a94c-2ea16078b808",
   "metadata": {},
   "outputs": [
    {
     "name": "stdout",
     "output_type": "stream",
     "text": [
      "+--------+---------------+-------------+----------+------------+-------------------+----------------+---------------+-----------------+----------------+-----+\n",
      "|vendorid|passenger_count|trip_distance|ratecodeid|payment_type|        pickup_time|pickup_longitude|pickup_latitude|dropoff_longitude|dropoff_latitude|label|\n",
      "+--------+---------------+-------------+----------+------------+-------------------+----------------+---------------+-----------------+----------------+-----+\n",
      "|       1|              1|          8.3|         1|           1|2015-01-15 05:01:09|          -73.97|           40.8|            -73.9|            40.9| 26.5|\n",
      "|       1|              1|         11.9|         1|           1|2015-01-27 15:11:57|          -73.98|          40.75|           -73.91|           40.88| 34.5|\n",
      "|       1|              1|          0.6|         1|           1|2015-01-26 11:25:28|          -73.98|          40.77|           -73.98|           40.77|  2.5|\n",
      "|       1|              1|          8.0|         1|           1|2015-01-14 19:22:53|          -73.97|          40.79|            -73.9|           40.89| 23.0|\n",
      "|       1|              1|          2.4|         1|           1|2015-01-07 06:24:42|          -73.98|          40.75|           -73.95|           40.75| 15.0|\n",
      "|       1|              1|         16.4|         3|           1|2015-01-25 14:44:58|          -73.99|          40.75|           -74.18|           40.69| 62.0|\n",
      "|       2|              1|        10.74|         1|           1|2015-01-29 09:33:17|           -74.0|          40.76|           -73.91|           40.89| 31.0|\n",
      "|       1|              2|          1.8|         1|           1|2015-01-16 20:37:44|          -73.99|          40.74|           -73.97|           40.75|  8.5|\n",
      "|       2|              1|        14.07|         3|           1|2015-01-18 12:15:15|          -73.99|          40.75|           -74.18|           40.69| 57.0|\n",
      "|       1|              1|          1.1|         1|           1|2015-01-13 19:36:36|          -73.98|          40.76|           -73.96|           40.76|  6.5|\n",
      "|       2|              1|        11.26|         1|           1|2015-01-17 16:17:12|          -73.99|          40.76|           -73.92|           40.89| 34.5|\n",
      "|       2|              1|        11.51|         1|           1|2015-01-19 19:44:46|          -74.01|          40.74|           -73.91|           40.88| 32.5|\n",
      "|       2|              1|         9.99|         1|           1|2015-01-14 15:20:10|          -73.97|           40.8|            -73.9|           40.91| 29.0|\n",
      "|       1|              1|         17.0|         1|           1|2015-01-05 17:44:55|           -74.0|          40.74|           -73.86|           40.94| 45.5|\n",
      "|       1|              1|          2.3|         1|           1|2015-01-13 10:59:26|          -73.98|          40.75|           -73.95|           40.75| 13.5|\n",
      "|       2|              1|        18.87|         1|           1|2015-01-04 08:18:51|          -73.87|          40.77|           -73.84|           40.58| 53.0|\n",
      "|       1|              2|         11.4|         1|           1|2015-01-15 20:30:11|          -73.99|          40.75|           -73.91|           40.89| 32.5|\n",
      "|       2|              1|        11.47|         1|           1|2015-01-29 17:49:53|          -73.99|          40.75|           -73.91|           40.89| 33.5|\n",
      "|       2|              1|        12.48|         1|           1|2015-01-16 17:12:10|          -73.87|          40.77|           -73.91|           40.88| 34.5|\n",
      "|       1|              1|         20.3|         2|           1|2015-01-27 17:42:42|          -74.01|           40.7|           -73.78|           40.65| 52.0|\n",
      "+--------+---------------+-------------+----------+------------+-------------------+----------------+---------------+-----------------+----------------+-----+\n",
      "only showing top 20 rows\n",
      "\n"
     ]
    }
   ],
   "source": [
    "all_features = [\"vendorid\", \"passenger_count\", \"trip_distance\", \"ratecodeid\", \"payment_type\",\n",
    "               \"pickup_time\", \"pickup_longitude\", \"pickup_latitude\", \n",
    "               \"dropoff_longitude\", \"dropoff_latitude\"]\n",
    "label = \"fare_amount\"\n",
    "\n",
    "rides = rides.select(all_features + [label]).na.drop()\n",
    "rides = rides.withColumnRenamed(label, \"label\")\n",
    "\n",
    "rides.show()"
   ]
  },
  {
   "cell_type": "code",
   "execution_count": 36,
   "id": "e060fcef-323b-4a7b-b0d6-075f3098f197",
   "metadata": {},
   "outputs": [],
   "source": [
    "class TimeTransformer(Transformer):\n",
    "    def __init__(self, inputCol, outputCols=[\"week_day_sin\", \"week_day_cos\", \"hour_sin\", \"hour_cos\", \"minute_sin\", \"minute_cos\"]):\n",
    "        super(TimeTransformer, self).__init__()\n",
    "        self.inputCol = inputCol\n",
    "        self.outputCols = outputCols\n",
    "\n",
    "    def _transform(self, dataset):\n",
    "        weekday = F.dayofweek(F.col(self.inputCol))\n",
    "        weekday_sin = F.round(F.sin(2*math.pi*weekday/7), 14)\n",
    "        weekday_cos = F.round(F.cos(2*math.pi*weekday/7), 14)\n",
    "\n",
    "        hour = F.hour(F.col(self.inputCol))\n",
    "        hour_sin = F.round(F.sin(2*math.pi*hour/7), 14)\n",
    "        hour_cos = F.round(F.cos(2*math.pi*hour/7), 14)\n",
    "\n",
    "        minute = F.minute(F.col(self.inputCol))\n",
    "        minute_sin = F.round(F.sin(2*math.pi*minute/7), 14)\n",
    "        minute_cos = F.round(F.cos(2*math.pi*minute/7), 14)\n",
    "\n",
    "        return dataset.withColumn(self.outputCols[0], weekday_sin) \\\n",
    "                      .withColumn(self.outputCols[1], weekday_cos) \\\n",
    "                      .withColumn(self.outputCols[2], hour_sin) \\\n",
    "                      .withColumn(self.outputCols[3], hour_cos) \\\n",
    "                      .withColumn(self.outputCols[4], minute_sin) \\\n",
    "                      .withColumn(self.outputCols[5], minute_cos)\n",
    "\n",
    "\n",
    "class CoordinatesTransformer(Transformer):\n",
    "    def __init__(self, inputCol, outputCols):  # z is missing because it's always 0\n",
    "        super(CoordinatesTransformer, self).__init__()\n",
    "        self.lat = inputCol[0]\n",
    "        self.lon = inputCol[1]\n",
    "        self.outputCols = outputCols\n",
    "\n",
    "    def _transform(self, dataset):\n",
    "        a = 6378137\n",
    "        e2 = 6.6943799901377997e-3\n",
    "        n = a/F.sqrt(1 - e2*F.sin(self.lat)**2)\n",
    "\n",
    "        x = n * F.cos(self.lat) * F.cos(self.lon)\n",
    "        y = n * F.cos(self.lat) * F.sin(self.lon)\n",
    "\n",
    "        return dataset.withColumn(self.outputCols[0], x) \\\n",
    "                      .withColumn(self.outputCols[1], y)"
   ]
  },
  {
   "cell_type": "code",
   "execution_count": 41,
   "id": "3c814e37-e74e-4c64-90b6-e4375edd8543",
   "metadata": {},
   "outputs": [
    {
     "name": "stdout",
     "output_type": "stream",
     "text": [
      "+--------------------+-----+\n",
      "|            features|label|\n",
      "+--------------------+-----+\n",
      "|[1.0,0.0,0.0,0.0,...| 34.0|\n",
      "|[1.0,0.0,0.0,0.0,...| 39.0|\n",
      "|[1.0,0.0,0.0,0.0,...| 26.5|\n",
      "|[1.0,0.0,0.0,0.0,...| 32.0|\n",
      "|[0.0,0.0,1.0,0.0,...|  0.0|\n",
      "|[1.0,0.0,0.0,0.0,...|  2.5|\n",
      "|[1.0,0.0,0.0,0.0,...| 21.5|\n",
      "|[1.0,0.0,0.0,0.0,...| 35.5|\n",
      "|[1.0,0.0,0.0,0.0,...| 52.0|\n",
      "|[1.0,0.0,0.0,0.0,...| 31.5|\n",
      "|[1.0,0.0,0.0,0.0,...| 19.5|\n",
      "|[1.0,0.0,0.0,0.0,...| 17.5|\n",
      "|[1.0,0.0,0.0,0.0,...| 45.0|\n",
      "|[0.0,0.0,1.0,0.0,...| 0.01|\n",
      "|[0.0,0.0,1.0,0.0,...| 68.0|\n",
      "|[0.0,0.0,1.0,0.0,...| 0.01|\n",
      "|[0.0,1.0,0.0,0.0,...| 52.0|\n",
      "|[1.0,0.0,0.0,0.0,...| 21.5|\n",
      "|[0.0,0.0,1.0,0.0,...| 0.01|\n",
      "|[1.0,0.0,0.0,0.0,...|  6.0|\n",
      "+--------------------+-----+\n",
      "only showing top 20 rows\n",
      "\n",
      "10000\n"
     ]
    }
   ],
   "source": [
    "# cat_cols = [\"vendorid\", \"ratecodeid\" ,\"payment_type\"]\n",
    "cat_cols = [\"ratecodeid\"]\n",
    "num_cols = [\"passenger_count\", \"trip_distance\"]\n",
    "time_cols = [\"week_day_sin\", \"week_day_cos\", \"hour_sin\", \"hour_cos\", \"minute_sin\", \"minute_cos\", \"pickup_x\", \"pickup_y\", \"dropoff_x\", \"dropoff_y\"]\n",
    "\n",
    "indexers = [\n",
    "    StringIndexer(inputCol=c, outputCol=\"{0}_indexed\".format(c)).setHandleInvalid(\"skip\")\n",
    "    for c in cat_cols\n",
    "]\n",
    "\n",
    "encoders = [\n",
    "    OneHotEncoder(inputCol=indexer.getOutputCol(), outputCol=\"{0}_encoded\".format(indexer.getOutputCol()))\n",
    "    for indexer in indexers\n",
    "]\n",
    "\n",
    "time_transformer = TimeTransformer(inputCol=\"pickup_time\")\n",
    "coordinates_transformer_1 = CoordinatesTransformer(inputCol=[\"pickup_latitude\", \"pickup_longitude\"], outputCols=[\"pickup_x\", \"pickup_y\"])\n",
    "coordinates_transformer_2 = CoordinatesTransformer(inputCol=[\"dropoff_latitude\", \"dropoff_longitude\"], outputCols=[\"dropoff_x\", \"dropoff_y\"])\n",
    "\n",
    "\n",
    "assembler = VectorAssembler(inputCols=[encoder.getOutputCol() for encoder in encoders] + num_cols + time_cols, outputCol=\"features\", handleInvalid=\"keep\")\n",
    "\n",
    "pipeline = Pipeline(stages=indexers + encoders + [time_transformer] + [coordinates_transformer_1] + [coordinates_transformer_2] + [assembler])\n",
    "# pipeline = Pipeline(stages=indexers + encoders + [time_transformer] + [coordinates_transformer_1] + [coordinates_transformer_2])\n",
    "\n",
    "model = pipeline.fit(rides)\n",
    "data = model.transform(rides)\n",
    "data = data.select([\"features\", \"label\"])\n",
    "data.show()\n",
    "print(data.count())"
   ]
  },
  {
   "cell_type": "code",
   "execution_count": 42,
   "id": "2ba5930e-db44-4869-b776-03f610ecefc2",
   "metadata": {},
   "outputs": [
    {
     "name": "stdout",
     "output_type": "stream",
     "text": [
      "+--------------------+-----+--------------------+\n",
      "|            features|label|     indexedFeatures|\n",
      "+--------------------+-----+--------------------+\n",
      "|[1.0,0.0,0.0,0.0,...| 49.5|[1.0,0.0,0.0,0.0,...|\n",
      "|[0.0,0.0,1.0,0.0,...| 35.0|[0.0,0.0,1.0,0.0,...|\n",
      "|[0.0,0.0,0.0,1.0,...| 61.0|[0.0,0.0,0.0,1.0,...|\n",
      "|[1.0,0.0,0.0,0.0,...| 51.0|[1.0,0.0,0.0,0.0,...|\n",
      "|[1.0,0.0,0.0,0.0,...|  2.5|[1.0,0.0,0.0,0.0,...|\n",
      "|[1.0,0.0,0.0,0.0,...| 36.5|[1.0,0.0,0.0,0.0,...|\n",
      "|[1.0,0.0,0.0,0.0,...|  6.0|[1.0,0.0,0.0,0.0,...|\n",
      "|[1.0,0.0,0.0,0.0,...| 34.5|[1.0,0.0,0.0,0.0,...|\n",
      "|[1.0,0.0,0.0,0.0,...|  2.5|[1.0,0.0,0.0,0.0,...|\n",
      "|[0.0,0.0,0.0,1.0,...| 71.5|[0.0,0.0,0.0,1.0,...|\n",
      "|[0.0,0.0,1.0,0.0,...| 60.0|[0.0,0.0,1.0,0.0,...|\n",
      "|[1.0,0.0,0.0,0.0,...| 28.0|[1.0,0.0,0.0,0.0,...|\n",
      "|[1.0,0.0,0.0,0.0,...|  6.5|[1.0,0.0,0.0,0.0,...|\n",
      "|[1.0,0.0,0.0,0.0,...| 33.5|[1.0,0.0,0.0,0.0,...|\n",
      "|[1.0,0.0,0.0,0.0,...| 55.5|[1.0,0.0,0.0,0.0,...|\n",
      "|[1.0,0.0,0.0,0.0,...| 30.0|[1.0,0.0,0.0,0.0,...|\n",
      "|[1.0,0.0,0.0,0.0,...| 38.5|[1.0,0.0,0.0,0.0,...|\n",
      "|[0.0,0.0,1.0,0.0,...|  0.0|[0.0,0.0,1.0,0.0,...|\n",
      "|[0.0,0.0,1.0,0.0,...| 55.0|[0.0,0.0,1.0,0.0,...|\n",
      "|[0.0,0.0,0.0,1.0,...| 63.5|[0.0,0.0,0.0,1.0,...|\n",
      "+--------------------+-----+--------------------+\n",
      "only showing top 20 rows\n",
      "\n"
     ]
    }
   ],
   "source": [
    "featureIndexer = VectorIndexer(inputCol=\"features\", outputCol=\"indexedFeatures\", maxCategories=6).fit(data)\n",
    "transformed = featureIndexer.transform(data)\n",
    "transformed.show()"
   ]
  },
  {
   "cell_type": "code",
   "execution_count": 10,
   "id": "fc035a09-b25a-4a91-9df5-29402e644f48",
   "metadata": {},
   "outputs": [
    {
     "data": {
      "text/plain": [
       "''"
      ]
     },
     "execution_count": 10,
     "metadata": {},
     "output_type": "execute_result"
    }
   ],
   "source": [
    "# train_data, test_data = transformed.randomSplit([0.7, 0.3])\n",
    "\n",
    "# run(\"hdfs dfs -rm -R project/data\")\n",
    "\n",
    "# train_data.select(\"indexedFeatures\", \"label\")\\\n",
    "#     .coalesce(1)\\\n",
    "#     .write\\\n",
    "#     .mode(\"overwrite\")\\\n",
    "#     .format(\"json\")\\\n",
    "#     .save(\"project/data/train\")\n",
    "\n",
    "# # Run it from root directory of the repository\n",
    "# run(\"hdfs dfs -cat project/data/train/*.json > data/train.json\")\n",
    "\n",
    "# test_data.select(\"indexedFeatures\", \"label\")\\\n",
    "#     .coalesce(1)\\\n",
    "#     .write\\\n",
    "#     .mode(\"overwrite\")\\\n",
    "#     .format(\"json\")\\\n",
    "#     .save(\"project/data/test\")\n",
    "\n",
    "# # Run it from root directory of the repository\n",
    "# run(\"hdfs dfs -cat project/data/test/*.json > data/test.json\")"
   ]
  },
  {
   "cell_type": "code",
   "execution_count": 43,
   "id": "8b5f77e9-b86a-4fa4-8a77-cb3f47c30646",
   "metadata": {},
   "outputs": [],
   "source": [
    "train_data, test_data = transformed.randomSplit([0.7, 0.3])"
   ]
  },
  {
   "cell_type": "code",
   "execution_count": 47,
   "id": "7383845b-e16f-482e-92db-f3fff35e899f",
   "metadata": {},
   "outputs": [
    {
     "data": {
      "text/plain": [
       "3030"
      ]
     },
     "execution_count": 47,
     "metadata": {},
     "output_type": "execute_result"
    }
   ],
   "source": [
    "test_data.count()"
   ]
  },
  {
   "cell_type": "markdown",
   "id": "fe57c63d-adb7-46ba-8571-8c532058c5e4",
   "metadata": {
    "tags": []
   },
   "source": [
    "# Modeling"
   ]
  },
  {
   "cell_type": "code",
   "execution_count": 54,
   "id": "fcc544f6-da8d-43d6-8591-08a78e467c8d",
   "metadata": {},
   "outputs": [],
   "source": [
    "from pyspark.ml.evaluation import RegressionEvaluator \n",
    "\n",
    "# Create evaluators\n",
    "rmse_evaluator = RegressionEvaluator(labelCol=\"label\", predictionCol=\"prediction\", metricName=\"rmse\")\n",
    "r2_evaluator = RegressionEvaluator(labelCol=\"label\", predictionCol=\"prediction\", metricName=\"r2\")"
   ]
  },
  {
   "cell_type": "code",
   "execution_count": 55,
   "id": "41bddcc5-3513-447a-9c24-654736085b68",
   "metadata": {},
   "outputs": [
    {
     "name": "stdout",
     "output_type": "stream",
     "text": [
      "+--------------------+-----+--------------------+------------------+\n",
      "|            features|label|     indexedFeatures|        prediction|\n",
      "+--------------------+-----+--------------------+------------------+\n",
      "|(18,[0,6,7,8,9,10...| 12.5|(18,[0,6,7,8,9,10...|  9.33452696000295|\n",
      "|(18,[0,6,7,8,9,10...| 13.0|(18,[0,6,7,8,9,10...|  10.6590169095474|\n",
      "|(18,[0,6,7,8,9,10...| 34.0|(18,[0,6,7,8,9,10...| 18.00533922970627|\n",
      "|(18,[0,6,7,8,9,11...| 40.5|(18,[0,6,7,8,9,11...| 14.32991615977065|\n",
      "|(18,[0,6,7,8,9,11...| 68.0|(18,[0,6,7,8,9,11...|21.761929461627634|\n",
      "|(18,[0,6,7,8,9,11...| 24.5|(18,[0,6,7,8,9,11...| 16.08282879884877|\n",
      "|(18,[0,6,7,9,10,1...| 33.0|(18,[0,6,7,9,10,1...| 14.31467784199113|\n",
      "|(18,[0,6,7,9,10,1...| 27.5|(18,[0,6,7,9,10,1...|15.084052116677046|\n",
      "|(18,[0,6,7,9,11,1...| 35.0|(18,[0,6,7,9,11,1...| 16.28414112308896|\n",
      "|(18,[0,6,7,9,11,1...| 25.5|(18,[0,6,7,9,11,1...|  20.5633486006784|\n",
      "|(18,[0,6,7,9,11,1...| 34.0|(18,[0,6,7,9,11,1...| 16.20634139561591|\n",
      "|(18,[0,6,7,9,11,1...| 13.0|(18,[0,6,7,9,11,1...|12.928610022646627|\n",
      "|(18,[0,6,7,9,11,1...| 38.5|(18,[0,6,7,9,11,1...|18.114002104104426|\n",
      "|(18,[0,6,7,9,11,1...| 47.5|(18,[0,6,7,9,11,1...| 13.56964788483143|\n",
      "|(18,[0,6,7,9,11,1...| 51.0|(18,[0,6,7,9,11,1...| 14.28754580120162|\n",
      "|(18,[0,6,7,9,11,1...| 32.0|(18,[0,6,7,9,11,1...|  18.7971069075807|\n",
      "|(18,[0,6,7,9,11,1...| 48.5|(18,[0,6,7,9,11,1...|23.225024728575452|\n",
      "|(18,[0,6,7,9,11,1...| 58.5|(18,[0,6,7,9,11,1...|22.003873604549366|\n",
      "|(18,[0,6,8,9,11,1...| 26.0|(18,[0,6,8,9,11,1...| 5.811798551749579|\n",
      "|(18,[0,6,8,9,11,1...|  6.0|(18,[0,6,8,9,11,1...| 9.052271720407159|\n",
      "+--------------------+-----+--------------------+------------------+\n",
      "only showing top 20 rows\n",
      "\n",
      "Root Mean Squared Error (RMSE) on test data = 10.6835\n",
      "R-squared (R2) on test data = -1.71802\n"
     ]
    }
   ],
   "source": [
    "from pyspark.ml.regression import LinearRegression\n",
    "# Create Linear Regression Model\n",
    "lr = LinearRegression(featuresCol=\"indexedFeatures\")\n",
    "\n",
    "# Fit the data to the pipeline stages\n",
    "model_lr = lr.fit(train_data)\n",
    "predictions = model_lr.transform(test_data)\n",
    "predictions.show(10)\n",
    "S\n",
    "rmse1 = rmse_evaluator.evaluate(predictions)\n",
    "print(\"Root Mean Squared Error (RMSE) on test data = %g\" % rmse1)\n",
    "mae1 = r2_evaluator.evaluate(predictions)\n",
    "print(\"R-squared (R2) on test data = %g\" % mae1)"
   ]
  },
  {
   "cell_type": "code",
   "execution_count": 52,
   "id": "23de36c9-2de4-40c0-8222-8daabecd3f20",
   "metadata": {},
   "outputs": [
    {
     "name": "stdout",
     "output_type": "stream",
     "text": [
      "DEBUG: Running grid search...\n",
      "{Param(parent='LinearRegression_c867a86ffbe3', name='loss', doc='The loss function to be optimized. Supported options: squaredError, huber.'): 'squaredError',\n",
      " Param(parent='LinearRegression_c867a86ffbe3', name='fitIntercept', doc='whether to fit an intercept term.'): True,\n",
      " Param(parent='LinearRegression_c867a86ffbe3', name='tol', doc='the convergence tolerance for iterative algorithms (>= 0).'): 1e-06,\n",
      " Param(parent='LinearRegression_c867a86ffbe3', name='epsilon', doc='The shape parameter to control the amount of robustness. Must be > 1.0. Only valid when loss is huber'): 1.35,\n",
      " Param(parent='LinearRegression_c867a86ffbe3', name='maxBlockSizeInMB', doc='maximum memory in MB for stacking input data into blocks. Data is stacked within partitions. If more than remaining data size in a partition then it is adjusted to the data size. Default 0.0 represents choosing optimal value, depends on specific algorithm. Must be >= 0.'): 0.0,\n",
      " Param(parent='LinearRegression_c867a86ffbe3', name='featuresCol', doc='features column name.'): 'indexedFeatures',\n",
      " Param(parent='LinearRegression_c867a86ffbe3', name='predictionCol', doc='prediction column name.'): 'prediction',\n",
      " Param(parent='LinearRegression_c867a86ffbe3', name='maxIter', doc='max number of iterations (>= 0).'): 100,\n",
      " Param(parent='LinearRegression_c867a86ffbe3', name='solver', doc='The solver algorithm for optimization. Supported options: auto, normal, l-bfgs.'): 'auto',\n",
      " Param(parent='LinearRegression_c867a86ffbe3', name='regParam', doc='regularization parameter (>= 0).'): 0.0,\n",
      " Param(parent='LinearRegression_c867a86ffbe3', name='aggregationDepth', doc='suggested depth for treeAggregate (>= 2).'): 2,\n",
      " Param(parent='LinearRegression_c867a86ffbe3', name='labelCol', doc='label column name.'): 'label',\n",
      " Param(parent='LinearRegression_c867a86ffbe3', name='elasticNetParam', doc='the ElasticNet mixing parameter, in range [0, 1]. For alpha = 0, the penalty is an L2 penalty. For alpha = 1, it is an L1 penalty.'): 0.0,\n",
      " Param(parent='LinearRegression_c867a86ffbe3', name='standardization', doc='whether to standardize the training features before fitting the model.'): True}\n",
      "DEBUG: Saving the model\n",
      "DEBUG: Making and saving predictions\n",
      "+--------------------+-----+--------------------+------------------+\n",
      "|            features|label|     indexedFeatures|        prediction|\n",
      "+--------------------+-----+--------------------+------------------+\n",
      "|(18,[0,6,7,8,9,10...| 12.5|(18,[0,6,7,8,9,10...|13.068872691816033|\n",
      "|(18,[0,6,7,8,9,10...| 13.0|(18,[0,6,7,8,9,10...|12.105588018693702|\n",
      "|(18,[0,6,7,8,9,10...| 34.0|(18,[0,6,7,8,9,10...| 17.62465353415049|\n",
      "|(18,[0,6,7,8,9,11...| 40.5|(18,[0,6,7,8,9,11...|  12.0262487916197|\n",
      "|(18,[0,6,7,8,9,11...| 68.0|(18,[0,6,7,8,9,11...|15.182623077297585|\n",
      "|(18,[0,6,7,8,9,11...| 24.5|(18,[0,6,7,8,9,11...|18.066539144997726|\n",
      "|(18,[0,6,7,9,10,1...| 33.0|(18,[0,6,7,9,10,1...|12.603187448105054|\n",
      "|(18,[0,6,7,9,10,1...| 27.5|(18,[0,6,7,9,10,1...|15.837546718769595|\n",
      "|(18,[0,6,7,9,11,1...| 35.0|(18,[0,6,7,9,11,1...|14.230638291274524|\n",
      "|(18,[0,6,7,9,11,1...| 25.5|(18,[0,6,7,9,11,1...| 23.07312914601392|\n",
      "|(18,[0,6,7,9,11,1...| 34.0|(18,[0,6,7,9,11,1...| 9.056935964981172|\n",
      "|(18,[0,6,7,9,11,1...| 13.0|(18,[0,6,7,9,11,1...|14.663652275679333|\n",
      "|(18,[0,6,7,9,11,1...| 38.5|(18,[0,6,7,9,11,1...|14.356467219082752|\n",
      "|(18,[0,6,7,9,11,1...| 47.5|(18,[0,6,7,9,11,1...| 5.096886285606622|\n",
      "|(18,[0,6,7,9,11,1...| 51.0|(18,[0,6,7,9,11,1...| 5.814272379898462|\n",
      "|(18,[0,6,7,9,11,1...| 32.0|(18,[0,6,7,9,11,1...|16.970164948987424|\n",
      "|(18,[0,6,7,9,11,1...| 48.5|(18,[0,6,7,9,11,1...|18.559520919727483|\n",
      "|(18,[0,6,7,9,11,1...| 58.5|(18,[0,6,7,9,11,1...|16.923548400695054|\n",
      "|(18,[0,6,8,9,11,1...| 26.0|(18,[0,6,8,9,11,1...|12.766054346166229|\n",
      "|(18,[0,6,8,9,11,1...|  6.0|(18,[0,6,8,9,11,1...| 12.31414753480886|\n",
      "+--------------------+-----+--------------------+------------------+\n",
      "only showing top 20 rows\n",
      "\n",
      "DEBUG: Evaluating performance\n",
      "Root Mean Squared Error (RMSE) on test data = 12.5183\n",
      "R-squared (R2) on test data = 0.343954\n"
     ]
    }
   ],
   "source": [
    "from pyspark.ml.tuning import ParamGridBuilder, CrossValidator\n",
    "from pprint import pprint\n",
    "import numpy as np\n",
    "\n",
    "lr_grid = ParamGridBuilder()\n",
    "lr_grid = lr_grid.addGrid(model_lr.aggregationDepth, [2, 3])\\\n",
    "                 .addGrid(model_lr.regParam, [0.001, 0])\\\n",
    "                 .build()\n",
    "\n",
    "cv = CrossValidator(estimator=lr,\n",
    "                    estimatorParamMaps=lr_grid,\n",
    "                    evaluator=rmse_evaluator,\n",
    "                    parallelism=5,\n",
    "                    numFolds=3)\n",
    "\n",
    "print(\"DEBUG: Running grid search...\")\n",
    "cvModel = cv.fit(train_data)\n",
    "model1 = cvModel.bestModel\n",
    "pprint(model1.extractParamMap())\n",
    "\n",
    "print(\"DEBUG: Saving the model\")\n",
    "model1.write().overwrite().save(\"project/models/model1\")\n",
    "run(\"hdfs dfs -get project/models/model1 models/model1\")\n",
    "\n",
    "print(\"DEBUG: Making and saving predictions\")\n",
    "predictions = model1.transform(test_data)\n",
    "predictions.show(10)\n",
    "\n",
    "predictions.select(\"label\", \"prediction\")\\\n",
    "    .coalesce(1)\\\n",
    "    .write\\\n",
    "    .mode(\"overwrite\")\\\n",
    "    .format(\"csv\")\\\n",
    "    .option(\"sep\", \",\")\\\n",
    "    .option(\"header\", \"true\")\\\n",
    "    .save(\"project/output/model1_predictions.csv\")\n",
    "\n",
    "run(\"hdfs dfs -cat project/output/model1_predictions.csv/*.csv > output/model1_predictions.csv\")\n",
    "\n",
    "print(\"DEBUG: Evaluating performance\")\n",
    "rmse1 = rmse_evaluator.evaluate(predictions)\n",
    "print(\"Root Mean Squared Error (RMSE) on test data = %g\" % rmse1)\n",
    "mae1 = r2_evaluator.evaluate(predictions)\n",
    "print(\"R-squared (R2) on test data = %g\" % mae1)"
   ]
  },
  {
   "cell_type": "code",
   "execution_count": 60,
   "id": "5e8eb292-996d-4ea7-8742-95d3d4b81c88",
   "metadata": {},
   "outputs": [
    {
     "name": "stdout",
     "output_type": "stream",
     "text": [
      "+--------------------+-----+--------------------+------------------+\n",
      "|            features|label|     indexedFeatures|        prediction|\n",
      "+--------------------+-----+--------------------+------------------+\n",
      "|(18,[0,6,7,8,9,10...| 37.0|(18,[0,6,7,8,9,10...|29.002504830128323|\n",
      "|(18,[0,6,7,8,9,10...| 29.0|(18,[0,6,7,8,9,10...|29.173746840711907|\n",
      "|(18,[0,6,7,8,9,10...| 32.0|(18,[0,6,7,8,9,10...| 31.73400265603728|\n",
      "|(18,[0,6,7,9,10,1...| 32.0|(18,[0,6,7,9,10,1...|32.201308504551186|\n",
      "|(18,[0,6,7,9,11,1...| 27.0|(18,[0,6,7,9,11,1...| 28.40500482500517|\n",
      "|(18,[0,6,7,9,11,1...| 27.5|(18,[0,6,7,9,11,1...|29.354665731307183|\n",
      "|(18,[0,6,7,9,11,1...| 87.5|(18,[0,6,7,9,11,1...|41.467430292986975|\n",
      "|(18,[0,6,7,9,11,1...| 31.0|(18,[0,6,7,9,11,1...| 31.87056868825747|\n",
      "|(18,[1,6,7,9,10,1...| 52.0|(18,[1,6,7,9,10,1...| 51.20303102811455|\n",
      "|(18,[1,6,7,9,11,1...| 52.0|(18,[1,6,7,9,11,1...| 47.61292200486994|\n",
      "+--------------------+-----+--------------------+------------------+\n",
      "only showing top 10 rows\n",
      "\n",
      "Root Mean Squared Error (RMSE) on test data = 11.489\n",
      "R-squared (R2) on test data = 0.774953\n"
     ]
    }
   ],
   "source": [
    "from pyspark.ml.regression import RandomForestRegressor\n",
    "# Create Logistic Regression Model\n",
    "rfr = RandomForestRegressor(featuresCol=\"indexedFeatures\")\n",
    "\n",
    "# Fit the data to the pipeline stages\n",
    "model_rfr = rfr.fit(train_data)\n",
    "predictions = model_rfr.transform(test_data)\n",
    "predictions.show(10)\n",
    "\n",
    "rmse2 = rmse_evaluator.evaluate(predictions)\n",
    "print(\"Root Mean Squared Error (RMSE) on test data = %g\" % rmse2)\n",
    "mae2 = r2_evaluator.evaluate(predictions)\n",
    "print(\"R-squared (R2) on test data = %g\" % mae2)"
   ]
  },
  {
   "cell_type": "code",
   "execution_count": 61,
   "id": "0bed4b8b-b27d-4a3a-ac23-44f91a2af730",
   "metadata": {},
   "outputs": [
    {
     "name": "stdout",
     "output_type": "stream",
     "text": [
      "DEBUG: Running grid search...\n",
      "{Param(parent='RandomForestRegressor_c5357e9ca7ea', name='predictionCol', doc='prediction column name.'): 'prediction',\n",
      " Param(parent='RandomForestRegressor_c5357e9ca7ea', name='labelCol', doc='label column name.'): 'label',\n",
      " Param(parent='RandomForestRegressor_c5357e9ca7ea', name='seed', doc='random seed.'): 21597229747921251,\n",
      " Param(parent='RandomForestRegressor_c5357e9ca7ea', name='minInfoGain', doc='Minimum information gain for a split to be considered at a tree node.'): 0.0,\n",
      " Param(parent='RandomForestRegressor_c5357e9ca7ea', name='numTrees', doc='Number of trees to train (>= 1).'): 20,\n",
      " Param(parent='RandomForestRegressor_c5357e9ca7ea', name='maxMemoryInMB', doc='Maximum memory in MB allocated to histogram aggregation. If too small, then 1 node will be split per iteration, and its aggregates may exceed this size.'): 256,\n",
      " Param(parent='RandomForestRegressor_c5357e9ca7ea', name='minInstancesPerNode', doc='Minimum number of instances each child must have after split. If a split causes the left or right child to have fewer than minInstancesPerNode, the split will be discarded as invalid. Should be >= 1.'): 1,\n",
      " Param(parent='RandomForestRegressor_c5357e9ca7ea', name='cacheNodeIds', doc='If false, the algorithm will pass trees to executors to match instances with nodes. If true, the algorithm will cache node IDs for each instance. Caching can speed up training of deeper trees. Users can set how often should the cache be checkpointed or disable it by setting checkpointInterval.'): False,\n",
      " Param(parent='RandomForestRegressor_c5357e9ca7ea', name='checkpointInterval', doc='set checkpoint interval (>= 1) or disable checkpoint (-1). E.g. 10 means that the cache will get checkpointed every 10 iterations. Note: this setting will be ignored if the checkpoint directory is not set in the SparkContext.'): 10,\n",
      " Param(parent='RandomForestRegressor_c5357e9ca7ea', name='minWeightFractionPerNode', doc='Minimum fraction of the weighted sample count that each child must have after split. If a split causes the fraction of the total weight in the left or right child to be less than minWeightFractionPerNode, the split will be discarded as invalid. Should be in interval [0.0, 0.5).'): 0.0,\n",
      " Param(parent='RandomForestRegressor_c5357e9ca7ea', name='impurity', doc='Criterion used for information gain calculation (case-insensitive). Supported options: variance'): 'variance',\n",
      " Param(parent='RandomForestRegressor_c5357e9ca7ea', name='maxBins', doc='Max number of bins for discretizing continuous features.  Must be >=2 and >= number of categories for any categorical feature.'): 64,\n",
      " Param(parent='RandomForestRegressor_c5357e9ca7ea', name='featuresCol', doc='features column name.'): 'indexedFeatures',\n",
      " Param(parent='RandomForestRegressor_c5357e9ca7ea', name='subsamplingRate', doc='Fraction of the training data used for learning each decision tree, in range (0, 1].'): 1.0,\n",
      " Param(parent='RandomForestRegressor_c5357e9ca7ea', name='featureSubsetStrategy', doc=\"The number of features to consider for splits at each tree node. Supported options: 'auto' (choose automatically for task: If numTrees == 1, set to 'all'. If numTrees > 1 (forest), set to 'sqrt' for classification and to 'onethird' for regression), 'all' (use all features), 'onethird' (use 1/3 of the features), 'sqrt' (use sqrt(number of features)), 'log2' (use log2(number of features)), 'n' (when n is in the range (0, 1.0], use n * number of features. When n is in the range (1, number of features), use n features). default = 'auto'\"): 'auto',\n",
      " Param(parent='RandomForestRegressor_c5357e9ca7ea', name='leafCol', doc='Leaf indices column name. Predicted leaf index of each instance in each tree by preorder.'): '',\n",
      " Param(parent='RandomForestRegressor_c5357e9ca7ea', name='maxDepth', doc='Maximum depth of the tree. (>= 0) E.g., depth 0 means 1 leaf node; depth 1 means 1 internal node + 2 leaf nodes. Must be in range [0, 30].'): 6,\n",
      " Param(parent='RandomForestRegressor_c5357e9ca7ea', name='bootstrap', doc='Whether bootstrap samples are used when building trees.'): True}\n",
      "DEBUG: Saving the model\n",
      "DEBUG: Making and saving predictions\n",
      "+--------------------+-----+--------------------+------------------+\n",
      "|            features|label|     indexedFeatures|        prediction|\n",
      "+--------------------+-----+--------------------+------------------+\n",
      "|(18,[0,6,7,8,9,10...| 37.0|(18,[0,6,7,8,9,10...|22.917295155273592|\n",
      "|(18,[0,6,7,8,9,10...| 29.0|(18,[0,6,7,8,9,10...|22.628049401269358|\n",
      "|(18,[0,6,7,8,9,10...| 32.0|(18,[0,6,7,8,9,10...|24.377635864373552|\n",
      "|(18,[0,6,7,9,10,1...| 32.0|(18,[0,6,7,9,10,1...|27.193653582636834|\n",
      "|(18,[0,6,7,9,11,1...| 27.0|(18,[0,6,7,9,11,1...|27.314383251467554|\n",
      "|(18,[0,6,7,9,11,1...| 27.5|(18,[0,6,7,9,11,1...|27.314383251467554|\n",
      "|(18,[0,6,7,9,11,1...| 87.5|(18,[0,6,7,9,11,1...| 41.70113372819402|\n",
      "|(18,[0,6,7,9,11,1...| 31.0|(18,[0,6,7,9,11,1...| 30.19080933843573|\n",
      "|(18,[1,6,7,9,10,1...| 52.0|(18,[1,6,7,9,10,1...| 50.05132858054415|\n",
      "|(18,[1,6,7,9,11,1...| 52.0|(18,[1,6,7,9,11,1...|45.757594220996396|\n",
      "+--------------------+-----+--------------------+------------------+\n",
      "only showing top 10 rows\n",
      "\n",
      "DEBUG: Evaluating performance\n",
      "Root Mean Squared Error (RMSE) on test data = 7.37552\n",
      "R-squared (R2) on test data = 0.768958\n"
     ]
    }
   ],
   "source": [
    "rfr_grid = ParamGridBuilder()\n",
    "rfr_grid = rfr_grid.addGrid(model_rfr.maxDepth, [5, 6])\\\n",
    "                   .addGrid(model_rfr.maxBins, [32, 64])\\\n",
    "                   .build()\n",
    "\n",
    "cv = CrossValidator(estimator=rfr,\n",
    "                    estimatorParamMaps=rfr_grid,\n",
    "                    evaluator=rmse_evaluator,\n",
    "                    parallelism=5,\n",
    "                    numFolds=3)\n",
    "\n",
    "print(\"DEBUG: Running grid search...\")\n",
    "cvModel = cv.fit(train_data)\n",
    "model2 = cvModel.bestModel\n",
    "pprint(model2.extractParamMap())\n",
    "\n",
    "print(\"DEBUG: Saving the model\")\n",
    "model2.write().overwrite().save(\"project/models/model2\")\n",
    "run(\"hdfs dfs -get project/models/model2 models/model2\")\n",
    "\n",
    "print(\"DEBUG: Making and saving predictions\")\n",
    "predictions = model2.transform(test_data)\n",
    "predictions.show(10)\n",
    "\n",
    "predictions.select(\"label\", \"prediction\")\\\n",
    "    .coalesce(1)\\\n",
    "    .write\\\n",
    "    .mode(\"overwrite\")\\\n",
    "    .format(\"csv\")\\\n",
    "    .option(\"sep\", \",\")\\\n",
    "    .option(\"header\", \"true\")\\\n",
    "    .save(\"project/output/model2_predictions.csv\")\n",
    "\n",
    "run(\"hdfs dfs -cat project/output/model2_predictions.csv/*.csv > output/model2_predictions.csv\")\n",
    "\n",
    "print(\"DEBUG: Evaluating performance\")\n",
    "rmse2 = rmse_evaluator.evaluate(predictions)\n",
    "print(\"Root Mean Squared Error (RMSE) on test data = %g\" % rmse2)\n",
    "mae2 = r2_evaluator.evaluate(predictions)\n",
    "print(\"R-squared (R2) on test data = %g\" % mae2)"
   ]
  },
  {
   "cell_type": "markdown",
   "id": "c7feeb8b-c7da-4654-8934-06d269582957",
   "metadata": {},
   "source": [
    "# Compare the best models"
   ]
  },
  {
   "cell_type": "code",
   "execution_count": 62,
   "id": "5f032187-fea7-4163-9b6d-c3423e2d545c",
   "metadata": {},
   "outputs": [
    {
     "name": "stdout",
     "output_type": "stream",
     "text": [
      "+------------------------------------------------------------------------------------------------+------------------+-------------------+\n",
      "|model                                                                                           |RMSE              |R2                 |\n",
      "+------------------------------------------------------------------------------------------------+------------------+-------------------+\n",
      "|LinearRegressionModel: uid=LinearRegression_c867a86ffbe3, numFeatures=18                        |10.683474479485891|-1.7180160520183727|\n",
      "|RandomForestRegressionModel: uid=RandomForestRegressor_c5357e9ca7ea, numTrees=20, numFeatures=18|7.37551565203668  |0.7689579121447947 |\n",
      "+------------------------------------------------------------------------------------------------+------------------+-------------------+\n",
      "\n"
     ]
    },
    {
     "data": {
      "text/plain": [
       "''"
      ]
     },
     "execution_count": 62,
     "metadata": {},
     "output_type": "execute_result"
    }
   ],
   "source": [
    "# Create data frame to report performance of the models\n",
    "models = [[str(model1), rmse1, mae1], [str(model2), rmse2, mae2]]\n",
    "\n",
    "df = spark.createDataFrame(models, [\"model\", \"RMSE\", \"R2\"])\n",
    "df.show(truncate=False)\n",
    "\n",
    "# Save it to HDFS\n",
    "df.coalesce(1)\\\n",
    "    .write\\\n",
    "    .mode(\"overwrite\")\\\n",
    "    .format(\"csv\")\\\n",
    "    .option(\"sep\", \",\")\\\n",
    "    .option(\"header\", \"true\")\\\n",
    "    .save(\"project/output/evaluation.csv\")\n",
    "\n",
    "# Run it from root directory of the repository\n",
    "run(\"hdfs dfs -cat project/output/evaluation.csv/*.csv > output/evaluation.csv\")"
   ]
  },
  {
   "cell_type": "code",
   "execution_count": null,
   "id": "af15fd64-3857-4a02-ae6b-ee2150c9e572",
   "metadata": {},
   "outputs": [],
   "source": []
  }
 ],
 "metadata": {
  "kernelspec": {
   "display_name": "Pyspark 3",
   "language": "python",
   "name": "python3"
  },
  "language_info": {
   "codemirror_mode": {
    "name": "ipython",
    "version": 3
   },
   "file_extension": ".py",
   "mimetype": "text/x-python",
   "name": "python",
   "nbconvert_exporter": "python",
   "pygments_lexer": "ipython3",
   "version": "3.6.8"
  }
 },
 "nbformat": 4,
 "nbformat_minor": 5
}
